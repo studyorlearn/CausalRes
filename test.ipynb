{
 "cells": [
  {
   "cell_type": "code",
   "execution_count": 1,
   "metadata": {},
   "outputs": [],
   "source": [
    "from utils.data_utils import get_data_tag\n",
    "data, tag = get_data_tag()"
   ]
  },
  {
   "cell_type": "code",
   "execution_count": 4,
   "metadata": {},
   "outputs": [
    {
     "name": "stdout",
     "output_type": "stream",
     "text": [
      "\u001b[1;31mType:\u001b[0m        int\n",
      "\u001b[1;31mString form:\u001b[0m 61624320\n",
      "\u001b[1;31mDocstring:\u001b[0m  \n",
      "int([x]) -> integer\n",
      "int(x, base=10) -> integer\n",
      "\n",
      "Convert a number or string to an integer, or return 0 if no arguments\n",
      "are given.  If x is a number, return x.__int__().  For floating point\n",
      "numbers, this truncates towards zero.\n",
      "\n",
      "If x is not a number or if base is given, then x must be a string,\n",
      "bytes, or bytearray instance representing an integer literal in the\n",
      "given base.  The literal can be preceded by '+' or '-' and be surrounded\n",
      "by whitespace.  The base defaults to 10.  Valid bases are 0 and 2-36.\n",
      "Base 0 means to interpret the base from the string as an integer literal.\n",
      ">>> int('0b100', base=0)\n",
      "4"
     ]
    }
   ],
   "source": [
    "t = 20060*512*6\n",
    "t?"
   ]
  },
  {
   "cell_type": "code",
   "execution_count": 8,
   "metadata": {},
   "outputs": [],
   "source": [
    "import torch\n",
    "\n",
    "\n",
    "temp = torch.rand(10,9,8)\n",
    "# temp = temp.view(10, -1)\n",
    "temp = temp.reshape(10, -1)\n"
   ]
  },
  {
   "cell_type": "code",
   "execution_count": 9,
   "metadata": {},
   "outputs": [
    {
     "data": {
      "text/plain": [
       "torch.Size([10, 72])"
      ]
     },
     "execution_count": 9,
     "metadata": {},
     "output_type": "execute_result"
    }
   ],
   "source": [
    "temp.shape"
   ]
  },
  {
   "cell_type": "code",
   "execution_count": null,
   "metadata": {},
   "outputs": [
    {
     "name": "stdout",
     "output_type": "stream",
     "text": [
      "Variable       Type        Data/Info\n",
      "------------------------------------\n",
      "data           ndarray     512x6x10030: 30812160 elems, type `float64`, 246497280 bytes (235.078125 Mb)\n",
      "get_data_tag   function    <function get_data_tag at 0x000001B328C48540>\n",
      "tag            ndarray     10030: 10030 elems, type `uint8`, 10030 bytes\n"
     ]
    }
   ],
   "source": [
    "%whos"
   ]
  },
  {
   "cell_type": "code",
   "execution_count": null,
   "metadata": {},
   "outputs": [],
   "source": [
    "import numpy as np\n",
    "from sklearn.metrics import (accuracy_score, precision_score, recall_score, \n",
    "                             f1_score, cohen_kappa_score, \n",
    "                             confusion_matrix, mean_absolute_error, \n",
    "                             matthews_corrcoef)\n",
    "\n",
    "def calculate_specificity(y_true, y_pred):\n",
    "    \"\"\"\n",
    "    计算特异度（Specificity）\n",
    "    :param y_true: numpy数组，真实标签\n",
    "    :param y_pred: numpy数组，预测标签\n",
    "    :return: 特异度\n",
    "    \"\"\"\n",
    "    cm = confusion_matrix(y_true, y_pred)\n",
    "    tn = cm[0, 0]\n",
    "    fp = cm[0, 1]\n",
    "    specificity = tn / (tn + fp)\n",
    "    return specificity\n",
    "\n",
    "def calculate_metrics(y_true, y_pred, multi_class=False):\n",
    "    \"\"\"\n",
    "    计算分类模型的性能指标\n",
    "    :param y_true: numpy数组，真实标签\n",
    "    :param y_pred: numpy数组，预测标签\n",
    "    :param multi_class: 是否为多分类\n",
    "    :return: dict，包含所有指标的字典\n",
    "    \"\"\"\n",
    "    metrics = {\n",
    "        'Accuracy': accuracy_score(y_true, y_pred),\n",
    "        'F1-score': f1_score(y_true, y_pred, average='macro'),\n",
    "        'Confusion Matrix': confusion_matrix(y_true, y_pred),\n",
    "        'Kappa': cohen_kappa_score(y_true, y_pred),\n",
    "        'MAE': mean_absolute_error(y_true, y_pred)\n",
    "    }\n",
    "    \n",
    "    if not multi_class:\n",
    "        metrics.update({\n",
    "            'Precision': precision_score(y_true, y_pred),\n",
    "            'Recall': recall_score(y_true, y_pred),\n",
    "            'Specificity': calculate_specificity(y_true, y_pred),\n",
    "            'MCC': matthews_corrcoef(y_true, y_pred)\n",
    "        })\n",
    "    else:\n",
    "        metrics.update({\n",
    "            'Precision': precision_score(y_true, y_pred, average='macro'),\n",
    "            'Recall': recall_score(y_true, y_pred, average='macro')\n",
    "        })\n",
    "    \n",
    "    return metrics\n",
    "\n",
    "# 示例\n",
    "y_true = causal_res.all_test_label  # 替换为你的真实标签数组\n",
    "y_pred = causal_res.preds  # 替换为你的预测标签数组\n",
    "spe = calculate_specificity(y_true, y_pred)\n",
    "print(spe)\n",
    "metrics = calculate_metrics(y_true, y_pred, multi_class=True)\n",
    "print(metrics)"
   ]
  }
 ],
 "metadata": {
  "kernelspec": {
   "display_name": "pytorch_311",
   "language": "python",
   "name": "python3"
  },
  "language_info": {
   "codemirror_mode": {
    "name": "ipython",
    "version": 3
   },
   "file_extension": ".py",
   "mimetype": "text/x-python",
   "name": "python",
   "nbconvert_exporter": "python",
   "pygments_lexer": "ipython3",
   "version": "3.11.8"
  }
 },
 "nbformat": 4,
 "nbformat_minor": 2
}
