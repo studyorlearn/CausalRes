{
 "cells": [
  {
   "cell_type": "code",
   "execution_count": 2,
   "metadata": {},
   "outputs": [],
   "source": [
    "import sys\n",
    "sys.path.append('..')\n",
    "import torch\n",
    "import numpy as np\n",
    "import matplotlib.pyplot as plt\n",
    "from matplotlib import rcParams\n",
    "from utils.data_utils import get_dataloader\n",
    "from models.models import MLP, CNN, CNNResNet, CausalCNNResNet\n",
    "\n",
    "rcParams['svg.fonttype'] = 'none'\n",
    "rcParams['font.family'] = 'SimHei'\n",
    "rcParams['axes.unicode_minus'] = False"
   ]
  },
  {
   "cell_type": "code",
   "execution_count": null,
   "metadata": {},
   "outputs": [],
   "source": []
  },
  {
   "cell_type": "code",
   "execution_count": null,
   "metadata": {},
   "outputs": [],
   "source": [
    "\n",
    "if __name__ == \"__main__\":\n",
    "    # Example usage\n",
    "    input_size = 10\n",
    "    hidden_sizes = [50, 100, 30]\n",
    "    output_size = 5\n",
    "\n",
    "    model = MLP(input_size, hidden_sizes, output_size)\n",
    "\n",
    "    # Print model architecture\n",
    "    print(model)\n",
    "    \n",
    "    # Example usage\n",
    "    input_channels = 512\n",
    "    conv_layers = [\n",
    "        (32, 1, 1, 1),  # (out_channels, kernel_size, stride, padding)\n",
    "        (64, 1, 1, 1)\n",
    "    ]\n",
    "    fc_layers = [128]\n",
    "    num_classes = 22\n",
    "\n",
    "    model = CNN(input_channels, conv_layers, fc_layers, num_classes)\n",
    "\n",
    "    # Print model architecture\n",
    "    print(model)\n",
    "    model = CNNResNet(model, 22)\n",
    "    print(model)\n",
    "    model = CausalCNNResNet(6, 16, 10, 32, 1024, 3, 23 )\n",
    "    print(model)\n"
   ]
  }
 ],
 "metadata": {
  "kernelspec": {
   "display_name": "pytorch_311",
   "language": "python",
   "name": "python3"
  },
  "language_info": {
   "codemirror_mode": {
    "name": "ipython",
    "version": 3
   },
   "file_extension": ".py",
   "mimetype": "text/x-python",
   "name": "python",
   "nbconvert_exporter": "python",
   "pygments_lexer": "ipython3",
   "version": "3.11.8"
  }
 },
 "nbformat": 4,
 "nbformat_minor": 2
}
